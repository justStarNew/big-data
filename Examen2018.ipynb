{
 "cells": [
  {
   "cell_type": "markdown",
   "metadata": {},
   "source": [
    "# Outils informatiques pour le Big Data\n",
    "\n",
    "## Examen du 05 décembre 2018\n",
    "\n",
    "**Prénom:**\n",
    "\n",
    "**Nom:**\n",
    "\n",
    "*Attention vous devez déposer ce fichier sur [cursus](https://cursus.univ-rennes2.fr/course/view.php?id=11467) avant 12h45*\n",
    "\n",
    "Les données fournies pour cette examen sont les crimes reportés dans une grande ville américaine durant une année."
   ]
  },
  {
   "cell_type": "code",
   "execution_count": null,
   "metadata": {},
   "outputs": [],
   "source": [
    "import findspark\n",
    "findspark.init()"
   ]
  },
  {
   "cell_type": "markdown",
   "metadata": {},
   "source": [
    "## Exercice 1\n",
    "\n",
    "*1 point*\n",
    "\n",
    "Créez une session de type `SparkContext` nommée `sc` avec deux processeurs "
   ]
  },
  {
   "cell_type": "code",
   "execution_count": 3,
   "metadata": {},
   "outputs": [],
   "source": [
    "# Create a local spark cluster with 2 workers"
   ]
  },
  {
   "cell_type": "code",
   "execution_count": 4,
   "metadata": {},
   "outputs": [
    {
     "data": {
      "text/html": [
       "\n",
       "        <div>\n",
       "            <p><b>SparkContext</b></p>\n",
       "\n",
       "            <p><a href=\"http://ar039133.math.univ-rennes1.fr:4040\">Spark UI</a></p>\n",
       "\n",
       "            <dl>\n",
       "              <dt>Version</dt>\n",
       "                <dd><code>v2.3.1</code></dd>\n",
       "              <dt>Master</dt>\n",
       "                <dd><code>local[2]</code></dd>\n",
       "              <dt>AppName</dt>\n",
       "                <dd><code>pyspark-shell</code></dd>\n",
       "            </dl>\n",
       "        </div>\n",
       "        "
      ],
      "text/plain": [
       "<SparkContext master=local[2] appName=pyspark-shell>"
      ]
     },
     "execution_count": 4,
     "metadata": {},
     "output_type": "execute_result"
    }
   ],
   "source": [
    "sc"
   ]
  },
  {
   "cell_type": "markdown",
   "metadata": {},
   "source": [
    "Vérifier que votre session fonctionne correctement en testant le programme suivant:"
   ]
  },
  {
   "cell_type": "code",
   "execution_count": 5,
   "metadata": {},
   "outputs": [],
   "source": [
    "rdd = sc.parallelize(range(8))  # create collection"
   ]
  },
  {
   "cell_type": "code",
   "execution_count": 6,
   "metadata": {},
   "outputs": [
    {
     "data": {
      "text/plain": [
       "[0, 1, 2, 3, 4, 5, 6, 7]"
      ]
     },
     "execution_count": 6,
     "metadata": {},
     "output_type": "execute_result"
    }
   ],
   "source": [
    "rdd.collect()"
   ]
  },
  {
   "cell_type": "markdown",
   "metadata": {},
   "source": [
    "## Exercice 2\n",
    "\n",
    "*3 points*\n",
    "\n",
    "Lisez les données se trouvant dans le fichier `big-data/data/philadelphia-crime-data-2015-ytd.csv` et stocker les dans une variable nommée `base_rdd`"
   ]
  },
  {
   "cell_type": "code",
   "execution_count": null,
   "metadata": {},
   "outputs": [],
   "source": [
    "base_rdd = sc.textFile(\"file:///####/big-data/data/philadelphia-crime-data-2015-ytd.csv\")"
   ]
  },
  {
   "cell_type": "markdown",
   "metadata": {},
   "source": [
    "**Question**: La variable `base_rdd` contient-elle déjà les données ?\n",
    "\n",
    " * [ ] Oui\n",
    " * [ ] Non"
   ]
  },
  {
   "cell_type": "markdown",
   "metadata": {},
   "source": [
    "Afficher les 10 premières observations:"
   ]
  },
  {
   "cell_type": "code",
   "execution_count": null,
   "metadata": {
    "scrolled": true
   },
   "outputs": [],
   "source": [
    "## code"
   ]
  },
  {
   "cell_type": "markdown",
   "metadata": {},
   "source": [
    "Filtrons la première ligne pour ne pas tenir compte de la ligne d'entête."
   ]
  },
  {
   "cell_type": "code",
   "execution_count": 11,
   "metadata": {},
   "outputs": [],
   "source": [
    "no_header_rdd = base_rdd.filter(lambda line: 'SECTOR' not in line)"
   ]
  },
  {
   "cell_type": "markdown",
   "metadata": {},
   "source": [
    "## Description des variables\n",
    "\n",
    "* `DC_DIST` (integer): District number\n",
    "* `SECTOR` (integer): Sector or PSA Number\n",
    "* `DISPATCH_DATE` (date string): Date of Incident \n",
    "* `DISPATCH_TIME` (time string): Time of Incident\n",
    "* `DC_KEY`: (text): Unique ID of each crime\n",
    "* `UCR_General` (integer): Rounded Crime Code\n",
    "* `TEXT_GENERAL_CODE` (string): Human-readable Crime Code\n",
    "* `OBJECTID` (integer): Unique row ID\n",
    "* `POINT_X` (decimal): Latitude where crime occurred\n",
    "* `POINT_Y` (decimal): Longitude where crime occurred"
   ]
  },
  {
   "cell_type": "markdown",
   "metadata": {},
   "source": [
    "### Exercise 3\n",
    "\n",
    "*4 points*\n",
    "\n",
    "Transformer cette variable `base_rdd` pour qu'elle ne contienne que des objets Python\n",
    "\n",
    "* Décomposer chaque ligne à l'aide de la méthode `split`\n",
    "* Creer une nouvelle RDD nommée `data_rdd` contenant une liste d'instances de la classe `CrimeData` qui est un `nametuple`.\n",
    "\n",
    "Ne prenez en compte que les variables `date_string`, `time_string`, `offense`, `latitude` et `longitude`."
   ]
  },
  {
   "cell_type": "code",
   "execution_count": 2,
   "metadata": {},
   "outputs": [],
   "source": [
    "from collections import namedtuple\n",
    "\n",
    "#\n",
    "#\n",
    "#"
   ]
  },
  {
   "cell_type": "markdown",
   "metadata": {},
   "source": [
    "### Exercise 4\n",
    "\n",
    "*6 points*\n",
    "\n",
    "Grouper les observations par crime et compter les.\n",
    "\n",
    "Les observations de la variable `offense` présentent quelques anomalies.\n",
    "Ecrire le code python permettant de nettoyer les données et stocker le résultat dans une nouvelle rdd nommée `cleaned_data`.\n",
    "\n",
    "Répondez aux questions suivantes:\n",
    "\n",
    " - Combien comptez-vous de meutres durant la période ?\n",
    " \n",
    " Réponse:\n",
    " \n",
    " \n",
    " - Combien de cambriolages de résidence ? \n",
    " \n",
    " Réponse:\n",
    " \n",
    " \n",
    " - Combien de vols à main armée ? \n",
    " \n",
    " Réponse:"
   ]
  },
  {
   "cell_type": "code",
   "execution_count": null,
   "metadata": {},
   "outputs": [],
   "source": [
    "### Code"
   ]
  },
  {
   "cell_type": "markdown",
   "metadata": {},
   "source": [
    "### Exercise 5\n",
    "\n",
    "*6 points*\n",
    "\n",
    "Ecrire le code Python permettant de tracer :\n",
    " - l'histogramme du nombre d'homicides en fonction de l'heure de la journée (0:00-24:00).\n",
    " - l'histogramme du nombre d'homicides en fonction du mois de l'année (1-12)."
   ]
  },
  {
   "cell_type": "code",
   "execution_count": 94,
   "metadata": {},
   "outputs": [],
   "source": [
    "###\n",
    "# Code\n",
    "###"
   ]
  },
  {
   "cell_type": "code",
   "execution_count": 14,
   "metadata": {},
   "outputs": [
    {
     "data": {
      "text/plain": [
       "Text(0, 0.5, 'homicides')"
      ]
     },
     "execution_count": 14,
     "metadata": {},
     "output_type": "execute_result"
    },
    {
     "data": {
      "image/png": "[encoded data removed]",
      "text/plain": [
       "<Figure size 720x432 with 1 Axes>"
      ]
     },
     "metadata": {},
     "output_type": "display_data"
    }
   ],
   "source": [
    "%matplotlib inline\n",
    "from numpy import arange, random\n",
    "import matplotlib.pyplot as plt\n",
    "import seaborn as sns\n",
    "sns.set()\n",
    "plt.rcParams['figure.figsize'] = (10,6)\n",
    "\n",
    "## Remplacer le tableau random par le nombre d'homicides\n",
    "\n",
    "plt.bar(arange(24), random.random(24))\n",
    "plt.xlabel(\"hours\")\n",
    "plt.ylabel(\"homicides\")"
   ]
  }
 ],
 "metadata": {
  "kernelspec": {
   "display_name": "Python3.7",
   "language": "python",
   "name": "python3"
  },
  "language_info": {
   "codemirror_mode": {
    "name": "ipython",
    "version": 3
   },
   "file_extension": ".py",
   "mimetype": "text/x-python",
   "name": "python",
   "nbconvert_exporter": "python",
   "pygments_lexer": "ipython3",
   "version": "3.7.1"
  },
  "name": "Lab",
  "notebookId": 1879358992052921
 },
 "nbformat": 4,
 "nbformat_minor": 1
}
